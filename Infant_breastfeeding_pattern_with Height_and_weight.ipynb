{
 "cells": [
  {
   "cell_type": "code",
   "execution_count": null,
   "id": "8c874e8a",
   "metadata": {},
   "outputs": [],
   "source": [
    "#importing relevant libraries\n",
    "import pandas as pd\n",
    "import matplotlib.pyplot as plt"
   ]
  },
  {
   "cell_type": "code",
   "execution_count": 17,
   "id": "6446c014",
   "metadata": {},
   "outputs": [
    {
     "data": {
      "text/html": [
       "<div>\n",
       "<style scoped>\n",
       "    .dataframe tbody tr th:only-of-type {\n",
       "        vertical-align: middle;\n",
       "    }\n",
       "\n",
       "    .dataframe tbody tr th {\n",
       "        vertical-align: top;\n",
       "    }\n",
       "\n",
       "    .dataframe thead th {\n",
       "        text-align: right;\n",
       "    }\n",
       "</style>\n",
       "<table border=\"1\" class=\"dataframe\">\n",
       "  <thead>\n",
       "    <tr style=\"text-align: right;\">\n",
       "      <th></th>\n",
       "      <th>S/n</th>\n",
       "      <th>Weight</th>\n",
       "      <th>Height</th>\n",
       "      <th>Month</th>\n",
       "      <th>Breastfeeding Partern</th>\n",
       "    </tr>\n",
       "  </thead>\n",
       "  <tbody>\n",
       "    <tr>\n",
       "      <th>0</th>\n",
       "      <td>1</td>\n",
       "      <td>4.0</td>\n",
       "      <td>17.0</td>\n",
       "      <td>Month 1</td>\n",
       "      <td>Exclusive Breastfeeding</td>\n",
       "    </tr>\n",
       "    <tr>\n",
       "      <th>1</th>\n",
       "      <td>2</td>\n",
       "      <td>4.9</td>\n",
       "      <td>18.5</td>\n",
       "      <td>Month 1</td>\n",
       "      <td>Exclusive Breastfeeding</td>\n",
       "    </tr>\n",
       "    <tr>\n",
       "      <th>2</th>\n",
       "      <td>3</td>\n",
       "      <td>5.2</td>\n",
       "      <td>16.0</td>\n",
       "      <td>Month 1</td>\n",
       "      <td>Exclusive Breastfeeding</td>\n",
       "    </tr>\n",
       "    <tr>\n",
       "      <th>3</th>\n",
       "      <td>4</td>\n",
       "      <td>4.5</td>\n",
       "      <td>18.0</td>\n",
       "      <td>Month 1</td>\n",
       "      <td>Exclusive Breastfeeding</td>\n",
       "    </tr>\n",
       "    <tr>\n",
       "      <th>4</th>\n",
       "      <td>5</td>\n",
       "      <td>5.5</td>\n",
       "      <td>19.0</td>\n",
       "      <td>Month 1</td>\n",
       "      <td>Exclusive Breastfeeding</td>\n",
       "    </tr>\n",
       "    <tr>\n",
       "      <th>5</th>\n",
       "      <td>6</td>\n",
       "      <td>5.9</td>\n",
       "      <td>19.5</td>\n",
       "      <td>Month 1</td>\n",
       "      <td>Exclusive Breastfeeding</td>\n",
       "    </tr>\n",
       "    <tr>\n",
       "      <th>6</th>\n",
       "      <td>7</td>\n",
       "      <td>3.7</td>\n",
       "      <td>17.0</td>\n",
       "      <td>Month 1</td>\n",
       "      <td>Exclusive Breastfeeding</td>\n",
       "    </tr>\n",
       "    <tr>\n",
       "      <th>7</th>\n",
       "      <td>8</td>\n",
       "      <td>4.8</td>\n",
       "      <td>16.8</td>\n",
       "      <td>Month 1</td>\n",
       "      <td>Exclusive Breastfeeding</td>\n",
       "    </tr>\n",
       "    <tr>\n",
       "      <th>8</th>\n",
       "      <td>9</td>\n",
       "      <td>4.6</td>\n",
       "      <td>16.0</td>\n",
       "      <td>Month 1</td>\n",
       "      <td>Exclusive Breastfeeding</td>\n",
       "    </tr>\n",
       "    <tr>\n",
       "      <th>9</th>\n",
       "      <td>10</td>\n",
       "      <td>3.4</td>\n",
       "      <td>18.0</td>\n",
       "      <td>Month 1</td>\n",
       "      <td>Exclusive Breastfeeding</td>\n",
       "    </tr>\n",
       "  </tbody>\n",
       "</table>\n",
       "</div>"
      ],
      "text/plain": [
       "   S/n  Weight  Height    Month    Breastfeeding Partern\n",
       "0    1     4.0    17.0  Month 1  Exclusive Breastfeeding\n",
       "1    2     4.9    18.5  Month 1  Exclusive Breastfeeding\n",
       "2    3     5.2    16.0  Month 1  Exclusive Breastfeeding\n",
       "3    4     4.5    18.0  Month 1  Exclusive Breastfeeding\n",
       "4    5     5.5    19.0  Month 1  Exclusive Breastfeeding\n",
       "5    6     5.9    19.5  Month 1  Exclusive Breastfeeding\n",
       "6    7     3.7    17.0  Month 1  Exclusive Breastfeeding\n",
       "7    8     4.8    16.8  Month 1  Exclusive Breastfeeding\n",
       "8    9     4.6    16.0  Month 1  Exclusive Breastfeeding\n",
       "9   10     3.4    18.0  Month 1  Exclusive Breastfeeding"
      ]
     },
     "execution_count": 17,
     "metadata": {},
     "output_type": "execute_result"
    }
   ],
   "source": [
    "#reading the excel file into jupyter notebook\n",
    "path = \"/Users/HP/Downloads/Chidi_Breastfeed project/Weights heights of Infants with respect to method of feeding.xlsx\"\n",
    "infant_df = pd.read_excel(path)\n",
    "infant_df.head(10)"
   ]
  },
  {
   "cell_type": "code",
   "execution_count": 5,
   "id": "c8750ed9",
   "metadata": {},
   "outputs": [
    {
     "data": {
      "text/html": [
       "<div>\n",
       "<style scoped>\n",
       "    .dataframe tbody tr th:only-of-type {\n",
       "        vertical-align: middle;\n",
       "    }\n",
       "\n",
       "    .dataframe tbody tr th {\n",
       "        vertical-align: top;\n",
       "    }\n",
       "\n",
       "    .dataframe thead th {\n",
       "        text-align: right;\n",
       "    }\n",
       "</style>\n",
       "<table border=\"1\" class=\"dataframe\">\n",
       "  <thead>\n",
       "    <tr style=\"text-align: right;\">\n",
       "      <th></th>\n",
       "      <th>Weight</th>\n",
       "      <th>Height</th>\n",
       "      <th>Month</th>\n",
       "      <th>Breastfeeding Partern</th>\n",
       "    </tr>\n",
       "    <tr>\n",
       "      <th>S/n</th>\n",
       "      <th></th>\n",
       "      <th></th>\n",
       "      <th></th>\n",
       "      <th></th>\n",
       "    </tr>\n",
       "  </thead>\n",
       "  <tbody>\n",
       "    <tr>\n",
       "      <th>1</th>\n",
       "      <td>4.0</td>\n",
       "      <td>17.0</td>\n",
       "      <td>Month 1</td>\n",
       "      <td>Exclusive Breastfeeding</td>\n",
       "    </tr>\n",
       "    <tr>\n",
       "      <th>2</th>\n",
       "      <td>4.9</td>\n",
       "      <td>18.5</td>\n",
       "      <td>Month 1</td>\n",
       "      <td>Exclusive Breastfeeding</td>\n",
       "    </tr>\n",
       "    <tr>\n",
       "      <th>3</th>\n",
       "      <td>5.2</td>\n",
       "      <td>16.0</td>\n",
       "      <td>Month 1</td>\n",
       "      <td>Exclusive Breastfeeding</td>\n",
       "    </tr>\n",
       "    <tr>\n",
       "      <th>4</th>\n",
       "      <td>4.5</td>\n",
       "      <td>18.0</td>\n",
       "      <td>Month 1</td>\n",
       "      <td>Exclusive Breastfeeding</td>\n",
       "    </tr>\n",
       "    <tr>\n",
       "      <th>5</th>\n",
       "      <td>5.5</td>\n",
       "      <td>19.0</td>\n",
       "      <td>Month 1</td>\n",
       "      <td>Exclusive Breastfeeding</td>\n",
       "    </tr>\n",
       "    <tr>\n",
       "      <th>6</th>\n",
       "      <td>5.9</td>\n",
       "      <td>19.5</td>\n",
       "      <td>Month 1</td>\n",
       "      <td>Exclusive Breastfeeding</td>\n",
       "    </tr>\n",
       "    <tr>\n",
       "      <th>7</th>\n",
       "      <td>3.7</td>\n",
       "      <td>17.0</td>\n",
       "      <td>Month 1</td>\n",
       "      <td>Exclusive Breastfeeding</td>\n",
       "    </tr>\n",
       "    <tr>\n",
       "      <th>8</th>\n",
       "      <td>4.8</td>\n",
       "      <td>16.8</td>\n",
       "      <td>Month 1</td>\n",
       "      <td>Exclusive Breastfeeding</td>\n",
       "    </tr>\n",
       "    <tr>\n",
       "      <th>9</th>\n",
       "      <td>4.6</td>\n",
       "      <td>16.0</td>\n",
       "      <td>Month 1</td>\n",
       "      <td>Exclusive Breastfeeding</td>\n",
       "    </tr>\n",
       "    <tr>\n",
       "      <th>10</th>\n",
       "      <td>3.4</td>\n",
       "      <td>18.0</td>\n",
       "      <td>Month 1</td>\n",
       "      <td>Exclusive Breastfeeding</td>\n",
       "    </tr>\n",
       "  </tbody>\n",
       "</table>\n",
       "</div>"
      ],
      "text/plain": [
       "     Weight  Height    Month    Breastfeeding Partern\n",
       "S/n                                                  \n",
       "1       4.0    17.0  Month 1  Exclusive Breastfeeding\n",
       "2       4.9    18.5  Month 1  Exclusive Breastfeeding\n",
       "3       5.2    16.0  Month 1  Exclusive Breastfeeding\n",
       "4       4.5    18.0  Month 1  Exclusive Breastfeeding\n",
       "5       5.5    19.0  Month 1  Exclusive Breastfeeding\n",
       "6       5.9    19.5  Month 1  Exclusive Breastfeeding\n",
       "7       3.7    17.0  Month 1  Exclusive Breastfeeding\n",
       "8       4.8    16.8  Month 1  Exclusive Breastfeeding\n",
       "9       4.6    16.0  Month 1  Exclusive Breastfeeding\n",
       "10      3.4    18.0  Month 1  Exclusive Breastfeeding"
      ]
     },
     "execution_count": 5,
     "metadata": {},
     "output_type": "execute_result"
    }
   ],
   "source": [
    "#get rid of the default indexing\n",
    "new_infant= infant_df.set_index(['S/n'])\n",
    "new_infant.head(10)"
   ]
  },
  {
   "cell_type": "code",
   "execution_count": 18,
   "id": "5cc51afd",
   "metadata": {},
   "outputs": [
    {
     "data": {
      "text/html": [
       "<div>\n",
       "<style scoped>\n",
       "    .dataframe tbody tr th:only-of-type {\n",
       "        vertical-align: middle;\n",
       "    }\n",
       "\n",
       "    .dataframe tbody tr th {\n",
       "        vertical-align: top;\n",
       "    }\n",
       "\n",
       "    .dataframe thead th {\n",
       "        text-align: right;\n",
       "    }\n",
       "</style>\n",
       "<table border=\"1\" class=\"dataframe\">\n",
       "  <thead>\n",
       "    <tr style=\"text-align: right;\">\n",
       "      <th></th>\n",
       "      <th>Weight</th>\n",
       "      <th>Height</th>\n",
       "    </tr>\n",
       "  </thead>\n",
       "  <tbody>\n",
       "    <tr>\n",
       "      <th>count</th>\n",
       "      <td>720.000000</td>\n",
       "      <td>720.000000</td>\n",
       "    </tr>\n",
       "    <tr>\n",
       "      <th>mean</th>\n",
       "      <td>6.040417</td>\n",
       "      <td>20.503056</td>\n",
       "    </tr>\n",
       "    <tr>\n",
       "      <th>std</th>\n",
       "      <td>1.298707</td>\n",
       "      <td>2.333905</td>\n",
       "    </tr>\n",
       "    <tr>\n",
       "      <th>min</th>\n",
       "      <td>2.300000</td>\n",
       "      <td>15.000000</td>\n",
       "    </tr>\n",
       "    <tr>\n",
       "      <th>25%</th>\n",
       "      <td>5.200000</td>\n",
       "      <td>18.800000</td>\n",
       "    </tr>\n",
       "    <tr>\n",
       "      <th>50%</th>\n",
       "      <td>6.000000</td>\n",
       "      <td>20.450000</td>\n",
       "    </tr>\n",
       "    <tr>\n",
       "      <th>75%</th>\n",
       "      <td>7.000000</td>\n",
       "      <td>22.225000</td>\n",
       "    </tr>\n",
       "    <tr>\n",
       "      <th>max</th>\n",
       "      <td>11.200000</td>\n",
       "      <td>26.700000</td>\n",
       "    </tr>\n",
       "  </tbody>\n",
       "</table>\n",
       "</div>"
      ],
      "text/plain": [
       "           Weight      Height\n",
       "count  720.000000  720.000000\n",
       "mean     6.040417   20.503056\n",
       "std      1.298707    2.333905\n",
       "min      2.300000   15.000000\n",
       "25%      5.200000   18.800000\n",
       "50%      6.000000   20.450000\n",
       "75%      7.000000   22.225000\n",
       "max     11.200000   26.700000"
      ]
     },
     "execution_count": 18,
     "metadata": {},
     "output_type": "execute_result"
    }
   ],
   "source": [
    "check = new_infant.describe()\n",
    "\n",
    "check"
   ]
  },
  {
   "cell_type": "code",
   "execution_count": 19,
   "id": "aa5b4093",
   "metadata": {},
   "outputs": [
    {
     "data": {
      "text/plain": [
       "<AxesSubplot:>"
      ]
     },
     "execution_count": 19,
     "metadata": {},
     "output_type": "execute_result"
    },
    {
     "data": {
      "image/png": "[encoded data removed]",
      "text/plain": [
       "<Figure size 432x288 with 1 Axes>"
      ]
     },
     "metadata": {
      "needs_background": "light"
     },
     "output_type": "display_data"
    }
   ],
   "source": [
    "check.plot(kind='line')"
   ]
  },
  {
   "cell_type": "markdown",
   "id": "da4ef9d3",
   "metadata": {},
   "source": [
    "# Visualization"
   ]
  },
  {
   "cell_type": "markdown",
   "id": "ca3aa187",
   "metadata": {},
   "source": [
    "Is there any relationship between breastfeeding patterns and weight?"
   ]
  },
  {
   "cell_type": "code",
   "execution_count": 20,
   "id": "752b62ca",
   "metadata": {},
   "outputs": [
    {
     "data": {
      "text/plain": [
       "Breastfeeding Partern\n",
       "Breastfeeding and water    6.348889\n",
       "Exclusive Breastfeeding    6.257222\n",
       "No Breastfeeding           5.385556\n",
       "Partial Breastfeeding      6.170000\n",
       "Name: Weight, dtype: float64"
      ]
     },
     "execution_count": 20,
     "metadata": {},
     "output_type": "execute_result"
    }
   ],
   "source": [
    "feeding_part = new_infant.groupby('Breastfeeding Partern')['Weight'].mean()\n",
    "feeding_part"
   ]
  },
  {
   "cell_type": "code",
   "execution_count": 37,
   "id": "bce1b51f",
   "metadata": {},
   "outputs": [
    {
     "data": {
      "text/plain": [
       "Text(0, 0.5, 'Weight (Kg)')"
      ]
     },
     "execution_count": 37,
     "metadata": {},
     "output_type": "execute_result"
    },
    {
     "data": {
      "image/png": "[encoded data removed]",
      "text/plain": [
       "<Figure size 432x288 with 1 Axes>"
      ]
     },
     "metadata": {
      "needs_background": "light"
     },
     "output_type": "display_data"
    }
   ],
   "source": [
    "feeding_part.plot(kind='bar',title='Distribution of breastfeeding partern with respect to Weight', rot=45)\n",
    "plt.ylabel('Weight (Kg)')"
   ]
  },
  {
   "cell_type": "markdown",
   "id": "c94e89d6",
   "metadata": {},
   "source": [
    "\tHow does the height distribution differ across different months?"
   ]
  },
  {
   "cell_type": "code",
   "execution_count": 7,
   "id": "a733e470",
   "metadata": {},
   "outputs": [
    {
     "data": {
      "text/plain": [
       "Month\n",
       "Month 1    18.305000\n",
       "Month 2    19.241667\n",
       "Month 3    20.185000\n",
       "Month 4    20.960000\n",
       "Month 5    21.761667\n",
       "Month 6    22.565000\n",
       "Name: Height, dtype: float64"
      ]
     },
     "execution_count": 7,
     "metadata": {},
     "output_type": "execute_result"
    }
   ],
   "source": [
    "month_df = new_infant.groupby('Month')['Height'].mean()\n",
    "month_df"
   ]
  },
  {
   "cell_type": "code",
   "execution_count": 32,
   "id": "7044e1ee",
   "metadata": {},
   "outputs": [
    {
     "data": {
      "text/plain": [
       "Text(0, 0.5, 'Height')"
      ]
     },
     "execution_count": 32,
     "metadata": {},
     "output_type": "execute_result"
    },
    {
     "data": {
      "image/png": "[encoded data removed]",
      "text/plain": [
       "<Figure size 432x288 with 1 Axes>"
      ]
     },
     "metadata": {
      "needs_background": "light"
     },
     "output_type": "display_data"
    }
   ],
   "source": [
    "month_df.plot(kind='line', title='Distribution of Heights across each month')\n",
    "plt.ylabel('Height')"
   ]
  },
  {
   "cell_type": "markdown",
   "id": "2d3181f5",
   "metadata": {},
   "source": [
    "How does the weight distribution vary based on the height of individuals?"
   ]
  },
  {
   "cell_type": "code",
   "execution_count": null,
   "id": "4ca70372",
   "metadata": {},
   "outputs": [],
   "source": []
  },
  {
   "cell_type": "markdown",
   "id": "3296210c",
   "metadata": {},
   "source": [
    "Can we identify any outliers in the weight and height data?"
   ]
  },
  {
   "cell_type": "code",
   "execution_count": 7,
   "id": "9f719d15",
   "metadata": {},
   "outputs": [
    {
     "data": {
      "text/plain": [
       "<AxesSubplot:xlabel='Weight', ylabel='Height'>"
      ]
     },
     "execution_count": 7,
     "metadata": {},
     "output_type": "execute_result"
    },
    {
     "data": {
      "image/png": "[encoded data removed]",
      "text/plain": [
       "<Figure size 432x288 with 1 Axes>"
      ]
     },
     "metadata": {
      "needs_background": "light"
     },
     "output_type": "display_data"
    }
   ],
   "source": [
    "new_infant.plot(x='Weight', y='Height', kind='scatter')"
   ]
  },
  {
   "cell_type": "code",
   "execution_count": null,
   "id": "2863c4ec",
   "metadata": {},
   "outputs": [],
   "source": []
  },
  {
   "cell_type": "code",
   "execution_count": null,
   "id": "ce0ea5dd",
   "metadata": {},
   "outputs": [],
   "source": []
  }
 ],
 "metadata": {
  "kernelspec": {
   "display_name": "Python 3",
   "language": "python",
   "name": "python3"
  },
  "language_info": {
   "codemirror_mode": {
    "name": "ipython",
    "version": 3
   },
   "file_extension": ".py",
   "mimetype": "text/x-python",
   "name": "python",
   "nbconvert_exporter": "python",
   "pygments_lexer": "ipython3",
   "version": "3.8.8"
  }
 },
 "nbformat": 4,
 "nbformat_minor": 5
}
